{
 "cells": [
  {
   "cell_type": "code",
   "execution_count": 2,
   "metadata": {
    "collapsed": false
   },
   "outputs": [],
   "source": [
    "import pandas as pd\n",
    "import numpy as np\n"
   ]
  },
  {
   "cell_type": "code",
   "execution_count": 3,
   "metadata": {
    "collapsed": true
   },
   "outputs": [],
   "source": [
    "countries = ['Albania', 'Algeria', 'Andorra', 'Angola', 'Antigua and Barbuda',\n",
    "             'Argentina', 'Armenia', 'Australia', 'Austria', 'Azerbaijan',\n",
    "             'Bahamas', 'Bahrain', 'Bangladesh', 'Barbados', 'Belarus',\n",
    "             'Belgium', 'Belize', 'Benin', 'Bhutan', 'Bolivia']\n",
    "\n",
    "life_expectancy_values = [74.7,  75. ,  83.4,  57.6,  74.6,  75.4,  72.3,  81.5,  80.2,\n",
    "                          70.3,  72.1,  76.4,  68.1,  75.2,  69.8,  79.4,  70.8,  62.7,\n",
    "                          67.3,  70.6]\n",
    "\n",
    "gdp_values = [ 1681.61390973,   2155.48523109,  21495.80508273,    562.98768478,\n",
    "              13495.1274663 ,   9388.68852258,   1424.19056199,  24765.54890176,\n",
    "              27036.48733192,   1945.63754911,  21721.61840978,  13373.21993972,\n",
    "                483.97086804,   9783.98417323,   2253.46411147,  25034.66692293,\n",
    "               3680.91642923,    366.04496652,   1175.92638695,   1132.21387981]"
   ]
  },
  {
   "cell_type": "code",
   "execution_count": 4,
   "metadata": {
    "collapsed": false
   },
   "outputs": [],
   "source": [
    "life_expectancy=pd.Series(life_expectancy_values)\n",
    "gdp=pd.Series(gdp_values)"
   ]
  },
  {
   "cell_type": "code",
   "execution_count": 5,
   "metadata": {
    "collapsed": false
   },
   "outputs": [
    {
     "data": {
      "text/plain": [
       "74.700000000000003"
      ]
     },
     "execution_count": 5,
     "metadata": {},
     "output_type": "execute_result"
    }
   ],
   "source": [
    "life_expectancy[0]"
   ]
  },
  {
   "cell_type": "code",
   "execution_count": 6,
   "metadata": {
    "collapsed": false
   },
   "outputs": [
    {
     "data": {
      "text/plain": [
       "0     1681.613910\n",
       "1     2155.485231\n",
       "2    21495.805083\n",
       "3      562.987685\n",
       "dtype: float64"
      ]
     },
     "execution_count": 6,
     "metadata": {},
     "output_type": "execute_result"
    }
   ],
   "source": [
    "gdp[:4]"
   ]
  },
  {
   "cell_type": "code",
   "execution_count": 7,
   "metadata": {
    "collapsed": false
   },
   "outputs": [
    {
     "name": "stdout",
     "output_type": "stream",
     "text": [
      "72.87\n",
      "6.21399947487\n",
      "27036.4873319\n",
      "366.04496652\n"
     ]
    }
   ],
   "source": [
    "print life_expectancy.mean()\n",
    "print life_expectancy.std()\n",
    "print gdp.max()\n",
    "print gdp.min()"
   ]
  },
  {
   "cell_type": "code",
   "execution_count": 8,
   "metadata": {
    "collapsed": true
   },
   "outputs": [],
   "source": [
    "arr=pd.Series([1,2,3,4])"
   ]
  },
  {
   "cell_type": "code",
   "execution_count": 9,
   "metadata": {
    "collapsed": false
   },
   "outputs": [
    {
     "data": {
      "text/plain": [
       "count    4.000000\n",
       "mean     2.500000\n",
       "std      1.290994\n",
       "min      1.000000\n",
       "25%      1.750000\n",
       "50%      2.500000\n",
       "75%      3.250000\n",
       "max      4.000000\n",
       "dtype: float64"
      ]
     },
     "execution_count": 9,
     "metadata": {},
     "output_type": "execute_result"
    }
   ],
   "source": [
    "arr.describe()"
   ]
  },
  {
   "cell_type": "code",
   "execution_count": 10,
   "metadata": {
    "collapsed": false
   },
   "outputs": [
    {
     "data": {
      "text/plain": [
       "angola        72.34560\n",
       "afganistan    48.39540\n",
       "armenia       55.23670\n",
       "antigua       67.02145\n",
       "dtype: float64"
      ]
     },
     "execution_count": 10,
     "metadata": {},
     "output_type": "execute_result"
    }
   ],
   "source": [
    "life_expectancy=pd.Series([72.3456,48.3954,55.2367,67.02145],index=['angola','afganistan','armenia','antigua'])\n",
    "life_expectancy"
   ]
  },
  {
   "cell_type": "code",
   "execution_count": 11,
   "metadata": {
    "collapsed": false
   },
   "outputs": [
    {
     "data": {
      "text/plain": [
       "72.345600000000005"
      ]
     },
     "execution_count": 11,
     "metadata": {},
     "output_type": "execute_result"
    }
   ],
   "source": [
    "life_expectancy[0]"
   ]
  },
  {
   "cell_type": "code",
   "execution_count": 12,
   "metadata": {
    "collapsed": false
   },
   "outputs": [
    {
     "data": {
      "text/plain": [
       "72.345600000000005"
      ]
     },
     "execution_count": 12,
     "metadata": {},
     "output_type": "execute_result"
    }
   ],
   "source": [
    "life_expectancy['angola']"
   ]
  },
  {
   "cell_type": "code",
   "execution_count": 13,
   "metadata": {
    "collapsed": false
   },
   "outputs": [
    {
     "data": {
      "text/plain": [
       "72.345600000000005"
      ]
     },
     "execution_count": 13,
     "metadata": {},
     "output_type": "execute_result"
    }
   ],
   "source": [
    "life_expectancy.loc['angola'] #accessing by index\n"
   ]
  },
  {
   "cell_type": "code",
   "execution_count": 14,
   "metadata": {
    "collapsed": false
   },
   "outputs": [
    {
     "data": {
      "text/plain": [
       "0    1\n",
       "1    3\n",
       "2    2\n",
       "3    4\n",
       "dtype: int64"
      ]
     },
     "execution_count": 14,
     "metadata": {},
     "output_type": "execute_result"
    }
   ],
   "source": [
    "pd.Series([1,3,2,4])"
   ]
  },
  {
   "cell_type": "code",
   "execution_count": 15,
   "metadata": {
    "collapsed": false
   },
   "outputs": [
    {
     "data": {
      "text/plain": [
       "72.345600000000005"
      ]
     },
     "execution_count": 15,
     "metadata": {},
     "output_type": "execute_result"
    }
   ],
   "source": [
    "life_expectancy.iloc[0]  # accessing by position"
   ]
  },
  {
   "cell_type": "code",
   "execution_count": 16,
   "metadata": {
    "collapsed": false
   },
   "outputs": [
    {
     "name": "stdout",
     "output_type": "stream",
     "text": [
      "a   NaN\n",
      "b   NaN\n",
      "c   NaN\n",
      "d   NaN\n",
      "e   NaN\n",
      "f   NaN\n",
      "g   NaN\n",
      "h   NaN\n",
      "dtype: float64\n"
     ]
    }
   ],
   "source": [
    "s1=pd.Series([1,2,3,4],index=['a','b','c','d'])\n",
    "s2=pd.Series([10,20,30,40],index=['e','f','g','h'])\n",
    "\n",
    "print s1+s2"
   ]
  },
  {
   "cell_type": "code",
   "execution_count": null,
   "metadata": {
    "collapsed": true
   },
   "outputs": [],
   "source": []
  }
 ],
 "metadata": {
  "kernelspec": {
   "display_name": "Python [default]",
   "language": "python",
   "name": "python2"
  },
  "language_info": {
   "codemirror_mode": {
    "name": "ipython",
    "version": 2
   },
   "file_extension": ".py",
   "mimetype": "text/x-python",
   "name": "python",
   "nbconvert_exporter": "python",
   "pygments_lexer": "ipython2",
   "version": "2.7.12"
  }
 },
 "nbformat": 4,
 "nbformat_minor": 1
}
